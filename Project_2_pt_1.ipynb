{
  "nbformat": 4,
  "nbformat_minor": 0,
  "metadata": {
    "colab": {
      "name": "Project 2 pt 1",
      "provenance": [],
      "authorship_tag": "ABX9TyMf/5n9G1Hcfm9bpPjCn66n",
      "include_colab_link": true
    },
    "kernelspec": {
      "name": "python3",
      "display_name": "Python 3"
    },
    "language_info": {
      "name": "python"
    }
  },
  "cells": [
    {
      "cell_type": "markdown",
      "metadata": {
        "id": "view-in-github",
        "colab_type": "text"
      },
      "source": [
        "<a href=\"https://colab.research.google.com/github/CheyQ27/Main-Projects/blob/main/Project_2_pt_1.ipynb\" target=\"_parent\"><img src=\"https://colab.research.google.com/assets/colab-badge.svg\" alt=\"Open In Colab\"/></a>"
      ]
    },
    {
      "cell_type": "markdown",
      "source": [
        "# Housing Price in Beijing\n",
        "- Cheyenne Quann\n",
        "- 06/15/2022"
      ],
      "metadata": {
        "id": "3FnjUxpeis6g"
      }
    },
    {
      "cell_type": "markdown",
      "source": [
        "1) My source of data is https://www.kaggle.com/datasets/ruiqurm/lianjia and all data was fetched from https://bj.lianjia.com/chengjiao\n",
        "\n",
        "2) This set contains extensive and pertinent information on the housing market in Beijing, China. This set is geared toward educating potential home buyers, containing information on price, home size, condition, community information and how long properties have been on the market.\n",
        "\n",
        "3) My target will be the price of a home or the total price\n",
        "\n",
        "4) This is a regression problem\n",
        "\n",
        "5) There will be between 22 and 23 features\n",
        "\n",
        "6) There are 200,000 rows in my dataset\n",
        "\n",
        "7) The biggest challenge that I foresee is how I will split my data. I want to predict future housing prices so I need to figure out how to make my training set houses before a certain date and my testing set houses after that date"
      ],
      "metadata": {
        "id": "u3N7ALgrjHAG"
      }
    },
    {
      "cell_type": "code",
      "source": [
        "from google.colab import drive \n",
        "drive.mount('/content/drive')"
      ],
      "metadata": {
        "colab": {
          "base_uri": "https://localhost:8080/"
        },
        "id": "lFf5jWhQisZl",
        "outputId": "18b20432-0dfd-4448-9d5b-4f093f30fb35"
      },
      "execution_count": null,
      "outputs": [
        {
          "output_type": "stream",
          "name": "stdout",
          "text": [
            "Drive already mounted at /content/drive; to attempt to forcibly remount, call drive.mount(\"/content/drive\", force_remount=True).\n"
          ]
        }
      ]
    },
    {
      "cell_type": "code",
      "execution_count": null,
      "metadata": {
        "id": "5DRrNULAiYwo"
      },
      "outputs": [],
      "source": [
        "import pandas as pd\n",
        "import numpy as np\n",
        "import matplotlib.pyplot as plt\n",
        "import seaborn as sns"
      ]
    },
    {
      "cell_type": "code",
      "source": [
        "df = pd.read_csv('/content/drive/MyDrive/Coding Dojo/DataSets/200khouses.csv')\n",
        "df.head()"
      ],
      "metadata": {
        "colab": {
          "base_uri": "https://localhost:8080/",
          "height": 439
        },
        "id": "UXztVfZNeiEW",
        "outputId": "7e86b3d9-ed4c-4002-e7d1-ca417ec33a5d"
      },
      "execution_count": null,
      "outputs": [
        {
          "output_type": "stream",
          "name": "stderr",
          "text": [
            "/usr/local/lib/python3.7/dist-packages/IPython/core/interactiveshell.py:2882: DtypeWarning: Columns (15) have mixed types.Specify dtype option on import or set low_memory=False.\n",
            "  exec(code_obj, self.user_global_ns, self.user_ns)\n"
          ]
        },
        {
          "output_type": "execute_result",
          "data": {
            "text/plain": [
              "   Unnamed: 0                                                url  \\\n",
              "0      272244  https://bj.lianjia.com/chengjiao/BJSJ86937015....   \n",
              "1      183723  https://bj.lianjia.com/chengjiao/BJCY91181857....   \n",
              "2       99668  https://bj.lianjia.com/chengjiao/BJCP85595070....   \n",
              "3      181505  https://bj.lianjia.com/chengjiao/BJCY90950230....   \n",
              "4      254148  https://bj.lianjia.com/chengjiao/BJHD88117786....   \n",
              "\n",
              "             id         Lng        Lat           Cid   tradeTime  DOM  \\\n",
              "0  BJSJ86937015  116.212671  39.900574  1.111027e+12  2014-01-01  NaN   \n",
              "1  BJCY91181857  116.445582  39.974979  1.111027e+12  2015-12-31  1.0   \n",
              "2  BJCP85595070  116.439420  40.072066  1.111027e+12  2015-03-24  1.0   \n",
              "3  BJCY90950230  116.481632  39.927935  1.111027e+12  2016-01-10  1.0   \n",
              "4  BJHD88117786  116.338384  39.934691  1.111027e+12  2014-11-24  1.0   \n",
              "\n",
              "   followers  totalPrice  ...  buildingType  constructionTime  \\\n",
              "0          5       450.0  ...           3.0                未知   \n",
              "1         16       260.0  ...           4.0              1998   \n",
              "2         13       237.0  ...           4.0              2001   \n",
              "3         17       174.0  ...           4.0              1987   \n",
              "4          3       280.0  ...           4.0              1990   \n",
              "\n",
              "  renovationCondition buildingStructure  ladderRatio elevator  \\\n",
              "0                   1                 6        0.667      1.0   \n",
              "1                   3                 6        0.333      0.0   \n",
              "2                   4                 2        0.500      0.0   \n",
              "3                   3                 6        0.167      1.0   \n",
              "4                   4                 2        0.125      0.0   \n",
              "\n",
              "  fiveYearsProperty  subway district  communityAverage  \n",
              "0               0.0     0.0        9           57942.0  \n",
              "1               1.0     1.0        7           66102.0  \n",
              "2               1.0     0.0        6           40934.0  \n",
              "3               1.0     1.0        7           67899.0  \n",
              "4               1.0     1.0        8           96480.0  \n",
              "\n",
              "[5 rows x 27 columns]"
            ],
            "text/html": [
              "\n",
              "  <div id=\"df-91cde51e-073a-4443-8b27-1bbf6a614f0b\">\n",
              "    <div class=\"colab-df-container\">\n",
              "      <div>\n",
              "<style scoped>\n",
              "    .dataframe tbody tr th:only-of-type {\n",
              "        vertical-align: middle;\n",
              "    }\n",
              "\n",
              "    .dataframe tbody tr th {\n",
              "        vertical-align: top;\n",
              "    }\n",
              "\n",
              "    .dataframe thead th {\n",
              "        text-align: right;\n",
              "    }\n",
              "</style>\n",
              "<table border=\"1\" class=\"dataframe\">\n",
              "  <thead>\n",
              "    <tr style=\"text-align: right;\">\n",
              "      <th></th>\n",
              "      <th>Unnamed: 0</th>\n",
              "      <th>url</th>\n",
              "      <th>id</th>\n",
              "      <th>Lng</th>\n",
              "      <th>Lat</th>\n",
              "      <th>Cid</th>\n",
              "      <th>tradeTime</th>\n",
              "      <th>DOM</th>\n",
              "      <th>followers</th>\n",
              "      <th>totalPrice</th>\n",
              "      <th>...</th>\n",
              "      <th>buildingType</th>\n",
              "      <th>constructionTime</th>\n",
              "      <th>renovationCondition</th>\n",
              "      <th>buildingStructure</th>\n",
              "      <th>ladderRatio</th>\n",
              "      <th>elevator</th>\n",
              "      <th>fiveYearsProperty</th>\n",
              "      <th>subway</th>\n",
              "      <th>district</th>\n",
              "      <th>communityAverage</th>\n",
              "    </tr>\n",
              "  </thead>\n",
              "  <tbody>\n",
              "    <tr>\n",
              "      <th>0</th>\n",
              "      <td>272244</td>\n",
              "      <td>https://bj.lianjia.com/chengjiao/BJSJ86937015....</td>\n",
              "      <td>BJSJ86937015</td>\n",
              "      <td>116.212671</td>\n",
              "      <td>39.900574</td>\n",
              "      <td>1.111027e+12</td>\n",
              "      <td>2014-01-01</td>\n",
              "      <td>NaN</td>\n",
              "      <td>5</td>\n",
              "      <td>450.0</td>\n",
              "      <td>...</td>\n",
              "      <td>3.0</td>\n",
              "      <td>未知</td>\n",
              "      <td>1</td>\n",
              "      <td>6</td>\n",
              "      <td>0.667</td>\n",
              "      <td>1.0</td>\n",
              "      <td>0.0</td>\n",
              "      <td>0.0</td>\n",
              "      <td>9</td>\n",
              "      <td>57942.0</td>\n",
              "    </tr>\n",
              "    <tr>\n",
              "      <th>1</th>\n",
              "      <td>183723</td>\n",
              "      <td>https://bj.lianjia.com/chengjiao/BJCY91181857....</td>\n",
              "      <td>BJCY91181857</td>\n",
              "      <td>116.445582</td>\n",
              "      <td>39.974979</td>\n",
              "      <td>1.111027e+12</td>\n",
              "      <td>2015-12-31</td>\n",
              "      <td>1.0</td>\n",
              "      <td>16</td>\n",
              "      <td>260.0</td>\n",
              "      <td>...</td>\n",
              "      <td>4.0</td>\n",
              "      <td>1998</td>\n",
              "      <td>3</td>\n",
              "      <td>6</td>\n",
              "      <td>0.333</td>\n",
              "      <td>0.0</td>\n",
              "      <td>1.0</td>\n",
              "      <td>1.0</td>\n",
              "      <td>7</td>\n",
              "      <td>66102.0</td>\n",
              "    </tr>\n",
              "    <tr>\n",
              "      <th>2</th>\n",
              "      <td>99668</td>\n",
              "      <td>https://bj.lianjia.com/chengjiao/BJCP85595070....</td>\n",
              "      <td>BJCP85595070</td>\n",
              "      <td>116.439420</td>\n",
              "      <td>40.072066</td>\n",
              "      <td>1.111027e+12</td>\n",
              "      <td>2015-03-24</td>\n",
              "      <td>1.0</td>\n",
              "      <td>13</td>\n",
              "      <td>237.0</td>\n",
              "      <td>...</td>\n",
              "      <td>4.0</td>\n",
              "      <td>2001</td>\n",
              "      <td>4</td>\n",
              "      <td>2</td>\n",
              "      <td>0.500</td>\n",
              "      <td>0.0</td>\n",
              "      <td>1.0</td>\n",
              "      <td>0.0</td>\n",
              "      <td>6</td>\n",
              "      <td>40934.0</td>\n",
              "    </tr>\n",
              "    <tr>\n",
              "      <th>3</th>\n",
              "      <td>181505</td>\n",
              "      <td>https://bj.lianjia.com/chengjiao/BJCY90950230....</td>\n",
              "      <td>BJCY90950230</td>\n",
              "      <td>116.481632</td>\n",
              "      <td>39.927935</td>\n",
              "      <td>1.111027e+12</td>\n",
              "      <td>2016-01-10</td>\n",
              "      <td>1.0</td>\n",
              "      <td>17</td>\n",
              "      <td>174.0</td>\n",
              "      <td>...</td>\n",
              "      <td>4.0</td>\n",
              "      <td>1987</td>\n",
              "      <td>3</td>\n",
              "      <td>6</td>\n",
              "      <td>0.167</td>\n",
              "      <td>1.0</td>\n",
              "      <td>1.0</td>\n",
              "      <td>1.0</td>\n",
              "      <td>7</td>\n",
              "      <td>67899.0</td>\n",
              "    </tr>\n",
              "    <tr>\n",
              "      <th>4</th>\n",
              "      <td>254148</td>\n",
              "      <td>https://bj.lianjia.com/chengjiao/BJHD88117786....</td>\n",
              "      <td>BJHD88117786</td>\n",
              "      <td>116.338384</td>\n",
              "      <td>39.934691</td>\n",
              "      <td>1.111027e+12</td>\n",
              "      <td>2014-11-24</td>\n",
              "      <td>1.0</td>\n",
              "      <td>3</td>\n",
              "      <td>280.0</td>\n",
              "      <td>...</td>\n",
              "      <td>4.0</td>\n",
              "      <td>1990</td>\n",
              "      <td>4</td>\n",
              "      <td>2</td>\n",
              "      <td>0.125</td>\n",
              "      <td>0.0</td>\n",
              "      <td>1.0</td>\n",
              "      <td>1.0</td>\n",
              "      <td>8</td>\n",
              "      <td>96480.0</td>\n",
              "    </tr>\n",
              "  </tbody>\n",
              "</table>\n",
              "<p>5 rows × 27 columns</p>\n",
              "</div>\n",
              "      <button class=\"colab-df-convert\" onclick=\"convertToInteractive('df-91cde51e-073a-4443-8b27-1bbf6a614f0b')\"\n",
              "              title=\"Convert this dataframe to an interactive table.\"\n",
              "              style=\"display:none;\">\n",
              "        \n",
              "  <svg xmlns=\"http://www.w3.org/2000/svg\" height=\"24px\"viewBox=\"0 0 24 24\"\n",
              "       width=\"24px\">\n",
              "    <path d=\"M0 0h24v24H0V0z\" fill=\"none\"/>\n",
              "    <path d=\"M18.56 5.44l.94 2.06.94-2.06 2.06-.94-2.06-.94-.94-2.06-.94 2.06-2.06.94zm-11 1L8.5 8.5l.94-2.06 2.06-.94-2.06-.94L8.5 2.5l-.94 2.06-2.06.94zm10 10l.94 2.06.94-2.06 2.06-.94-2.06-.94-.94-2.06-.94 2.06-2.06.94z\"/><path d=\"M17.41 7.96l-1.37-1.37c-.4-.4-.92-.59-1.43-.59-.52 0-1.04.2-1.43.59L10.3 9.45l-7.72 7.72c-.78.78-.78 2.05 0 2.83L4 21.41c.39.39.9.59 1.41.59.51 0 1.02-.2 1.41-.59l7.78-7.78 2.81-2.81c.8-.78.8-2.07 0-2.86zM5.41 20L4 18.59l7.72-7.72 1.47 1.35L5.41 20z\"/>\n",
              "  </svg>\n",
              "      </button>\n",
              "      \n",
              "  <style>\n",
              "    .colab-df-container {\n",
              "      display:flex;\n",
              "      flex-wrap:wrap;\n",
              "      gap: 12px;\n",
              "    }\n",
              "\n",
              "    .colab-df-convert {\n",
              "      background-color: #E8F0FE;\n",
              "      border: none;\n",
              "      border-radius: 50%;\n",
              "      cursor: pointer;\n",
              "      display: none;\n",
              "      fill: #1967D2;\n",
              "      height: 32px;\n",
              "      padding: 0 0 0 0;\n",
              "      width: 32px;\n",
              "    }\n",
              "\n",
              "    .colab-df-convert:hover {\n",
              "      background-color: #E2EBFA;\n",
              "      box-shadow: 0px 1px 2px rgba(60, 64, 67, 0.3), 0px 1px 3px 1px rgba(60, 64, 67, 0.15);\n",
              "      fill: #174EA6;\n",
              "    }\n",
              "\n",
              "    [theme=dark] .colab-df-convert {\n",
              "      background-color: #3B4455;\n",
              "      fill: #D2E3FC;\n",
              "    }\n",
              "\n",
              "    [theme=dark] .colab-df-convert:hover {\n",
              "      background-color: #434B5C;\n",
              "      box-shadow: 0px 1px 3px 1px rgba(0, 0, 0, 0.15);\n",
              "      filter: drop-shadow(0px 1px 2px rgba(0, 0, 0, 0.3));\n",
              "      fill: #FFFFFF;\n",
              "    }\n",
              "  </style>\n",
              "\n",
              "      <script>\n",
              "        const buttonEl =\n",
              "          document.querySelector('#df-91cde51e-073a-4443-8b27-1bbf6a614f0b button.colab-df-convert');\n",
              "        buttonEl.style.display =\n",
              "          google.colab.kernel.accessAllowed ? 'block' : 'none';\n",
              "\n",
              "        async function convertToInteractive(key) {\n",
              "          const element = document.querySelector('#df-91cde51e-073a-4443-8b27-1bbf6a614f0b');\n",
              "          const dataTable =\n",
              "            await google.colab.kernel.invokeFunction('convertToInteractive',\n",
              "                                                     [key], {});\n",
              "          if (!dataTable) return;\n",
              "\n",
              "          const docLinkHtml = 'Like what you see? Visit the ' +\n",
              "            '<a target=\"_blank\" href=https://colab.research.google.com/notebooks/data_table.ipynb>data table notebook</a>'\n",
              "            + ' to learn more about interactive tables.';\n",
              "          element.innerHTML = '';\n",
              "          dataTable['output_type'] = 'display_data';\n",
              "          await google.colab.output.renderOutput(dataTable, element);\n",
              "          const docLink = document.createElement('div');\n",
              "          docLink.innerHTML = docLinkHtml;\n",
              "          element.appendChild(docLink);\n",
              "        }\n",
              "      </script>\n",
              "    </div>\n",
              "  </div>\n",
              "  "
            ]
          },
          "metadata": {},
          "execution_count": 43
        }
      ]
    },
    {
      "cell_type": "code",
      "source": [
        "df.shape"
      ],
      "metadata": {
        "colab": {
          "base_uri": "https://localhost:8080/"
        },
        "id": "AfdUWgM8rVuN",
        "outputId": "b2c58f15-9db9-40e5-c27a-499f6bf7bea5"
      },
      "execution_count": null,
      "outputs": [
        {
          "output_type": "execute_result",
          "data": {
            "text/plain": [
              "(200000, 27)"
            ]
          },
          "metadata": {},
          "execution_count": 44
        }
      ]
    },
    {
      "cell_type": "code",
      "source": [
        "df.columns = df.columns.str.lower()\n",
        "df.columns"
      ],
      "metadata": {
        "colab": {
          "base_uri": "https://localhost:8080/"
        },
        "id": "awTWpSiYfWb6",
        "outputId": "92942b96-98ec-423b-989d-33601721dcb0"
      },
      "execution_count": null,
      "outputs": [
        {
          "output_type": "execute_result",
          "data": {
            "text/plain": [
              "Index(['unnamed: 0', 'url', 'id', 'lng', 'lat', 'cid', 'tradetime', 'dom',\n",
              "       'followers', 'totalprice', 'price', 'square', 'livingroom',\n",
              "       'drawingroom', 'kitchen', 'bathroom', 'floor', 'buildingtype',\n",
              "       'constructiontime', 'renovationcondition', 'buildingstructure',\n",
              "       'ladderratio', 'elevator', 'fiveyearsproperty', 'subway', 'district',\n",
              "       'communityaverage'],\n",
              "      dtype='object')"
            ]
          },
          "metadata": {},
          "execution_count": 45
        }
      ]
    },
    {
      "cell_type": "code",
      "source": [
        "def explore_data(df):\n",
        "  \n",
        "  # Explore Columns\n",
        "  print('Columns:')\n",
        "  display(df.info())\n",
        "  print('\\n')\n",
        "\n",
        "  # Find duplicates\n",
        "  print(f'{df.duplicated().sum()} Duplicates Found \\n')\n",
        "\n",
        "  # Check for missing values\n",
        "  print('Missing Values')\n",
        "  display(df.isna().sum())\n",
        "  print('\\n')\n",
        "\n",
        "  # Examine categories\n",
        "  for col in df.select_dtypes(object).columns:\n",
        "    print(col)\n",
        "    display(df[col].value_counts())\n",
        "    print('\\n')\n",
        "\n",
        "  # Show Summary Statistics\n",
        "  display(df.describe(include='all'))\n",
        "  "
      ],
      "metadata": {
        "id": "KJXxiTp1wBkD"
      },
      "execution_count": null,
      "outputs": []
    },
    {
      "cell_type": "markdown",
      "source": [
        "# EDA And Cleaning"
      ],
      "metadata": {
        "id": "tO1tAyuQffy3"
      }
    },
    {
      "cell_type": "code",
      "source": [
        "explore_data(df)"
      ],
      "metadata": {
        "colab": {
          "base_uri": "https://localhost:8080/",
          "height": 1000
        },
        "id": "FVPzxBlwfQOf",
        "outputId": "8e138d0e-7ad4-4593-a8da-ae649b3ab57d"
      },
      "execution_count": null,
      "outputs": [
        {
          "output_type": "stream",
          "name": "stdout",
          "text": [
            "Columns:\n",
            "<class 'pandas.core.frame.DataFrame'>\n",
            "RangeIndex: 200000 entries, 0 to 199999\n",
            "Data columns (total 27 columns):\n",
            " #   Column               Non-Null Count   Dtype  \n",
            "---  ------               --------------   -----  \n",
            " 0   unnamed: 0           200000 non-null  int64  \n",
            " 1   url                  200000 non-null  object \n",
            " 2   id                   200000 non-null  object \n",
            " 3   lng                  200000 non-null  float64\n",
            " 4   lat                  200000 non-null  float64\n",
            " 5   cid                  200000 non-null  float64\n",
            " 6   tradetime            200000 non-null  object \n",
            " 7   dom                  100816 non-null  float64\n",
            " 8   followers            200000 non-null  int64  \n",
            " 9   totalprice           200000 non-null  float64\n",
            " 10  price                200000 non-null  int64  \n",
            " 11  square               200000 non-null  float64\n",
            " 12  livingroom           200000 non-null  object \n",
            " 13  drawingroom          200000 non-null  object \n",
            " 14  kitchen              200000 non-null  int64  \n",
            " 15  bathroom             200000 non-null  object \n",
            " 16  floor                200000 non-null  object \n",
            " 17  buildingtype         198723 non-null  float64\n",
            " 18  constructiontime     200000 non-null  object \n",
            " 19  renovationcondition  200000 non-null  int64  \n",
            " 20  buildingstructure    200000 non-null  int64  \n",
            " 21  ladderratio          200000 non-null  float64\n",
            " 22  elevator             199978 non-null  float64\n",
            " 23  fiveyearsproperty    199978 non-null  float64\n",
            " 24  subway               199978 non-null  float64\n",
            " 25  district             200000 non-null  int64  \n",
            " 26  communityaverage     199722 non-null  float64\n",
            "dtypes: float64(12), int64(7), object(8)\n",
            "memory usage: 41.2+ MB\n"
          ]
        },
        {
          "output_type": "display_data",
          "data": {
            "text/plain": [
              "None"
            ]
          },
          "metadata": {}
        },
        {
          "output_type": "stream",
          "name": "stdout",
          "text": [
            "\n",
            "\n",
            "0 Duplicates Found \n",
            "\n",
            "Missing Values\n"
          ]
        },
        {
          "output_type": "display_data",
          "data": {
            "text/plain": [
              "unnamed: 0                 0\n",
              "url                        0\n",
              "id                         0\n",
              "lng                        0\n",
              "lat                        0\n",
              "cid                        0\n",
              "tradetime                  0\n",
              "dom                    99184\n",
              "followers                  0\n",
              "totalprice                 0\n",
              "price                      0\n",
              "square                     0\n",
              "livingroom                 0\n",
              "drawingroom                0\n",
              "kitchen                    0\n",
              "bathroom                   0\n",
              "floor                      0\n",
              "buildingtype            1277\n",
              "constructiontime           0\n",
              "renovationcondition        0\n",
              "buildingstructure          0\n",
              "ladderratio                0\n",
              "elevator                  22\n",
              "fiveyearsproperty         22\n",
              "subway                    22\n",
              "district                   0\n",
              "communityaverage         278\n",
              "dtype: int64"
            ]
          },
          "metadata": {}
        },
        {
          "output_type": "stream",
          "name": "stdout",
          "text": [
            "\n",
            "\n",
            "url\n"
          ]
        },
        {
          "output_type": "display_data",
          "data": {
            "text/plain": [
              "https://bj.lianjia.com/chengjiao/BJSJ86937015.html    1\n",
              "https://bj.lianjia.com/chengjiao/BJCY84360856.html    1\n",
              "https://bj.lianjia.com/chengjiao/BJCY84696021.html    1\n",
              "https://bj.lianjia.com/chengjiao/BJCP88971686.html    1\n",
              "https://bj.lianjia.com/chengjiao/BJHD84430590.html    1\n",
              "                                                     ..\n",
              "https://bj.lianjia.com/chengjiao/BJDX86739741.html    1\n",
              "https://bj.lianjia.com/chengjiao/101100963168.html    1\n",
              "https://bj.lianjia.com/chengjiao/BJCY91118544.html    1\n",
              "https://bj.lianjia.com/chengjiao/BJHD84137543.html    1\n",
              "https://bj.lianjia.com/chengjiao/BJXC84983361.html    1\n",
              "Name: url, Length: 200000, dtype: int64"
            ]
          },
          "metadata": {}
        },
        {
          "output_type": "stream",
          "name": "stdout",
          "text": [
            "\n",
            "\n",
            "id\n"
          ]
        },
        {
          "output_type": "display_data",
          "data": {
            "text/plain": [
              "BJSJ86937015    1\n",
              "BJCY84360856    1\n",
              "BJCY84696021    1\n",
              "BJCP88971686    1\n",
              "BJHD84430590    1\n",
              "               ..\n",
              "BJDX86739741    1\n",
              "101100963168    1\n",
              "BJCY91118544    1\n",
              "BJHD84137543    1\n",
              "BJXC84983361    1\n",
              "Name: id, Length: 200000, dtype: int64"
            ]
          },
          "metadata": {}
        },
        {
          "output_type": "stream",
          "name": "stdout",
          "text": [
            "\n",
            "\n",
            "tradetime\n"
          ]
        },
        {
          "output_type": "display_data",
          "data": {
            "text/plain": [
              "2016-02-28    677\n",
              "2016-07-31    614\n",
              "2016-03-06    579\n",
              "2016-08-31    572\n",
              "2016-03-05    534\n",
              "             ... \n",
              "2011-01-26      1\n",
              "2010-04-05      1\n",
              "2010-12-22      1\n",
              "2010-09-09      1\n",
              "2011-09-02      1\n",
              "Name: tradetime, Length: 2501, dtype: int64"
            ]
          },
          "metadata": {}
        },
        {
          "output_type": "stream",
          "name": "stdout",
          "text": [
            "\n",
            "\n",
            "livingroom\n"
          ]
        },
        {
          "output_type": "display_data",
          "data": {
            "text/plain": [
              "2         100582\n",
              "1          51684\n",
              "3          42498\n",
              "4           4344\n",
              "5            701\n",
              "6            125\n",
              "7             22\n",
              "#NAME?        22\n",
              "0             15\n",
              "8              4\n",
              "9              3\n",
              "Name: livingroom, dtype: int64"
            ]
          },
          "metadata": {}
        },
        {
          "output_type": "stream",
          "name": "stdout",
          "text": [
            "\n",
            "\n",
            "drawingroom\n"
          ]
        },
        {
          "output_type": "display_data",
          "data": {
            "text/plain": [
              "1       141493\n",
              "2        45634\n",
              "0        12251\n",
              "3          564\n",
              "4           31\n",
              "低 6          7\n",
              "5            5\n",
              "中 6          4\n",
              "中 16         2\n",
              "高 14         2\n",
              "中 24         1\n",
              "顶 6          1\n",
              "低 15         1\n",
              "底 20         1\n",
              "低 16         1\n",
              "中 14         1\n",
              "底 11         1\n",
              "Name: drawingroom, dtype: int64"
            ]
          },
          "metadata": {}
        },
        {
          "output_type": "stream",
          "name": "stdout",
          "text": [
            "\n",
            "\n",
            "bathroom\n"
          ]
        },
        {
          "output_type": "display_data",
          "data": {
            "text/plain": [
              "1       137059\n",
              "2        27655\n",
              "1        26860\n",
              "2         5446\n",
              "3         1726\n",
              "0          473\n",
              "3          306\n",
              "4          261\n",
              "0           88\n",
              "4           54\n",
              "5           31\n",
              "5           11\n",
              "6            6\n",
              "2006         5\n",
              "2004         4\n",
              "2003         4\n",
              "1990         2\n",
              "2005         2\n",
              "2000         2\n",
              "未知           1\n",
              "7            1\n",
              "7            1\n",
              "1994         1\n",
              "2000         1\n",
              "Name: bathroom, dtype: int64"
            ]
          },
          "metadata": {}
        },
        {
          "output_type": "stream",
          "name": "stdout",
          "text": [
            "\n",
            "\n",
            "floor\n"
          ]
        },
        {
          "output_type": "display_data",
          "data": {
            "text/plain": [
              "中 6     21681\n",
              "顶 6     14297\n",
              "高 6     13230\n",
              "低 6      9898\n",
              "底 6      8341\n",
              "        ...  \n",
              "低 35        1\n",
              "低 63        1\n",
              "低 36        1\n",
              "低 37        1\n",
              "低 5         1\n",
              "Name: floor, Length: 201, dtype: int64"
            ]
          },
          "metadata": {}
        },
        {
          "output_type": "stream",
          "name": "stdout",
          "text": [
            "\n",
            "\n",
            "constructiontime\n"
          ]
        },
        {
          "output_type": "display_data",
          "data": {
            "text/plain": [
              "2004    13154\n",
              "2003    12137\n",
              "未知      12093\n",
              "2005    11878\n",
              "2006     9221\n",
              "        ...  \n",
              "1952        4\n",
              "1968        4\n",
              "1944        2\n",
              "1961        1\n",
              "1914        1\n",
              "Name: constructiontime, Length: 71, dtype: int64"
            ]
          },
          "metadata": {}
        },
        {
          "output_type": "stream",
          "name": "stdout",
          "text": [
            "\n",
            "\n"
          ]
        },
        {
          "output_type": "display_data",
          "data": {
            "text/plain": [
              "           unnamed: 0                                                url  \\\n",
              "count   200000.000000                                             200000   \n",
              "unique            NaN                                             200000   \n",
              "top               NaN  https://bj.lianjia.com/chengjiao/BJSJ86937015....   \n",
              "freq              NaN                                                  1   \n",
              "mean    159390.940465                                                NaN   \n",
              "std      91980.092832                                                NaN   \n",
              "min          0.000000                                                NaN   \n",
              "25%      79810.750000                                                NaN   \n",
              "50%     159374.500000                                                NaN   \n",
              "75%     239184.250000                                                NaN   \n",
              "max     318849.000000                                                NaN   \n",
              "\n",
              "                  id            lng            lat           cid   tradetime  \\\n",
              "count         200000  200000.000000  200000.000000  2.000000e+05      200000   \n",
              "unique        200000            NaN            NaN           NaN        2501   \n",
              "top     BJSJ86937015            NaN            NaN           NaN  2016-02-28   \n",
              "freq               1            NaN            NaN           NaN         677   \n",
              "mean             NaN     116.418741      39.949671  1.123246e+12         NaN   \n",
              "std              NaN       0.112193       0.091854  1.192295e+12         NaN   \n",
              "min              NaN     116.072514      39.627030  1.111027e+12         NaN   \n",
              "25%              NaN     116.345084      39.893471  1.111027e+12         NaN   \n",
              "50%              NaN     116.416780      39.934530  1.111027e+12         NaN   \n",
              "75%              NaN     116.477730      40.003018  1.111027e+12         NaN   \n",
              "max              NaN     116.732378      40.252758  1.184867e+14         NaN   \n",
              "\n",
              "                  dom      followers     totalprice  ...   buildingtype  \\\n",
              "count   100816.000000  200000.000000  200000.000000  ...  198723.000000   \n",
              "unique            NaN            NaN            NaN  ...            NaN   \n",
              "top               NaN            NaN            NaN  ...            NaN   \n",
              "freq              NaN            NaN            NaN  ...            NaN   \n",
              "mean        28.936379      16.786265     349.473671  ...       3.006926   \n",
              "std         50.561532      34.392438     229.575629  ...       1.271434   \n",
              "min          1.000000       0.000000       0.100000  ...       0.048000   \n",
              "25%          1.000000       0.000000     205.000000  ...       1.000000   \n",
              "50%          6.000000       5.000000     293.600000  ...       4.000000   \n",
              "75%         37.000000      18.000000     426.000000  ...       4.000000   \n",
              "max       1464.000000    1143.000000   11600.000000  ...       4.000000   \n",
              "\n",
              "        constructiontime renovationcondition buildingstructure   ladderratio  \\\n",
              "count             200000       200000.000000     200000.000000  2.000000e+05   \n",
              "unique                71                 NaN               NaN           NaN   \n",
              "top                 2004                 NaN               NaN           NaN   \n",
              "freq               13154                 NaN               NaN           NaN   \n",
              "mean                 NaN            2.607750          4.454635  5.042743e+01   \n",
              "std                  NaN            1.311563          1.901186  2.238170e+04   \n",
              "min                  NaN            0.000000          0.000000  0.000000e+00   \n",
              "25%                  NaN            1.000000          2.000000  2.500000e-01   \n",
              "50%                  NaN            3.000000          6.000000  3.330000e-01   \n",
              "75%                  NaN            4.000000          6.000000  5.000000e-01   \n",
              "max                  NaN            4.000000          6.000000  1.000940e+07   \n",
              "\n",
              "             elevator fiveyearsproperty         subway       district  \\\n",
              "count   199978.000000     199978.000000  199978.000000  200000.000000   \n",
              "unique            NaN               NaN            NaN            NaN   \n",
              "top               NaN               NaN            NaN            NaN   \n",
              "freq              NaN               NaN            NaN            NaN   \n",
              "mean         0.578169          0.646411       0.601411       6.768835   \n",
              "std          0.493853          0.478085       0.489609       2.811960   \n",
              "min          0.000000          0.000000       0.000000       1.000000   \n",
              "25%          0.000000          0.000000       0.000000       6.000000   \n",
              "50%          1.000000          1.000000       1.000000       7.000000   \n",
              "75%          1.000000          1.000000       1.000000       8.000000   \n",
              "max          1.000000          1.000000       1.000000      13.000000   \n",
              "\n",
              "        communityaverage  \n",
              "count      199722.000000  \n",
              "unique               NaN  \n",
              "top                  NaN  \n",
              "freq                 NaN  \n",
              "mean        63678.183505  \n",
              "std         22298.489601  \n",
              "min         10847.000000  \n",
              "25%         46339.000000  \n",
              "50%         59021.000000  \n",
              "75%         75993.000000  \n",
              "max        183109.000000  \n",
              "\n",
              "[11 rows x 27 columns]"
            ],
            "text/html": [
              "\n",
              "  <div id=\"df-b0daf2a8-6942-4ed5-9fb2-72392a51b78b\">\n",
              "    <div class=\"colab-df-container\">\n",
              "      <div>\n",
              "<style scoped>\n",
              "    .dataframe tbody tr th:only-of-type {\n",
              "        vertical-align: middle;\n",
              "    }\n",
              "\n",
              "    .dataframe tbody tr th {\n",
              "        vertical-align: top;\n",
              "    }\n",
              "\n",
              "    .dataframe thead th {\n",
              "        text-align: right;\n",
              "    }\n",
              "</style>\n",
              "<table border=\"1\" class=\"dataframe\">\n",
              "  <thead>\n",
              "    <tr style=\"text-align: right;\">\n",
              "      <th></th>\n",
              "      <th>unnamed: 0</th>\n",
              "      <th>url</th>\n",
              "      <th>id</th>\n",
              "      <th>lng</th>\n",
              "      <th>lat</th>\n",
              "      <th>cid</th>\n",
              "      <th>tradetime</th>\n",
              "      <th>dom</th>\n",
              "      <th>followers</th>\n",
              "      <th>totalprice</th>\n",
              "      <th>...</th>\n",
              "      <th>buildingtype</th>\n",
              "      <th>constructiontime</th>\n",
              "      <th>renovationcondition</th>\n",
              "      <th>buildingstructure</th>\n",
              "      <th>ladderratio</th>\n",
              "      <th>elevator</th>\n",
              "      <th>fiveyearsproperty</th>\n",
              "      <th>subway</th>\n",
              "      <th>district</th>\n",
              "      <th>communityaverage</th>\n",
              "    </tr>\n",
              "  </thead>\n",
              "  <tbody>\n",
              "    <tr>\n",
              "      <th>count</th>\n",
              "      <td>200000.000000</td>\n",
              "      <td>200000</td>\n",
              "      <td>200000</td>\n",
              "      <td>200000.000000</td>\n",
              "      <td>200000.000000</td>\n",
              "      <td>2.000000e+05</td>\n",
              "      <td>200000</td>\n",
              "      <td>100816.000000</td>\n",
              "      <td>200000.000000</td>\n",
              "      <td>200000.000000</td>\n",
              "      <td>...</td>\n",
              "      <td>198723.000000</td>\n",
              "      <td>200000</td>\n",
              "      <td>200000.000000</td>\n",
              "      <td>200000.000000</td>\n",
              "      <td>2.000000e+05</td>\n",
              "      <td>199978.000000</td>\n",
              "      <td>199978.000000</td>\n",
              "      <td>199978.000000</td>\n",
              "      <td>200000.000000</td>\n",
              "      <td>199722.000000</td>\n",
              "    </tr>\n",
              "    <tr>\n",
              "      <th>unique</th>\n",
              "      <td>NaN</td>\n",
              "      <td>200000</td>\n",
              "      <td>200000</td>\n",
              "      <td>NaN</td>\n",
              "      <td>NaN</td>\n",
              "      <td>NaN</td>\n",
              "      <td>2501</td>\n",
              "      <td>NaN</td>\n",
              "      <td>NaN</td>\n",
              "      <td>NaN</td>\n",
              "      <td>...</td>\n",
              "      <td>NaN</td>\n",
              "      <td>71</td>\n",
              "      <td>NaN</td>\n",
              "      <td>NaN</td>\n",
              "      <td>NaN</td>\n",
              "      <td>NaN</td>\n",
              "      <td>NaN</td>\n",
              "      <td>NaN</td>\n",
              "      <td>NaN</td>\n",
              "      <td>NaN</td>\n",
              "    </tr>\n",
              "    <tr>\n",
              "      <th>top</th>\n",
              "      <td>NaN</td>\n",
              "      <td>https://bj.lianjia.com/chengjiao/BJSJ86937015....</td>\n",
              "      <td>BJSJ86937015</td>\n",
              "      <td>NaN</td>\n",
              "      <td>NaN</td>\n",
              "      <td>NaN</td>\n",
              "      <td>2016-02-28</td>\n",
              "      <td>NaN</td>\n",
              "      <td>NaN</td>\n",
              "      <td>NaN</td>\n",
              "      <td>...</td>\n",
              "      <td>NaN</td>\n",
              "      <td>2004</td>\n",
              "      <td>NaN</td>\n",
              "      <td>NaN</td>\n",
              "      <td>NaN</td>\n",
              "      <td>NaN</td>\n",
              "      <td>NaN</td>\n",
              "      <td>NaN</td>\n",
              "      <td>NaN</td>\n",
              "      <td>NaN</td>\n",
              "    </tr>\n",
              "    <tr>\n",
              "      <th>freq</th>\n",
              "      <td>NaN</td>\n",
              "      <td>1</td>\n",
              "      <td>1</td>\n",
              "      <td>NaN</td>\n",
              "      <td>NaN</td>\n",
              "      <td>NaN</td>\n",
              "      <td>677</td>\n",
              "      <td>NaN</td>\n",
              "      <td>NaN</td>\n",
              "      <td>NaN</td>\n",
              "      <td>...</td>\n",
              "      <td>NaN</td>\n",
              "      <td>13154</td>\n",
              "      <td>NaN</td>\n",
              "      <td>NaN</td>\n",
              "      <td>NaN</td>\n",
              "      <td>NaN</td>\n",
              "      <td>NaN</td>\n",
              "      <td>NaN</td>\n",
              "      <td>NaN</td>\n",
              "      <td>NaN</td>\n",
              "    </tr>\n",
              "    <tr>\n",
              "      <th>mean</th>\n",
              "      <td>159390.940465</td>\n",
              "      <td>NaN</td>\n",
              "      <td>NaN</td>\n",
              "      <td>116.418741</td>\n",
              "      <td>39.949671</td>\n",
              "      <td>1.123246e+12</td>\n",
              "      <td>NaN</td>\n",
              "      <td>28.936379</td>\n",
              "      <td>16.786265</td>\n",
              "      <td>349.473671</td>\n",
              "      <td>...</td>\n",
              "      <td>3.006926</td>\n",
              "      <td>NaN</td>\n",
              "      <td>2.607750</td>\n",
              "      <td>4.454635</td>\n",
              "      <td>5.042743e+01</td>\n",
              "      <td>0.578169</td>\n",
              "      <td>0.646411</td>\n",
              "      <td>0.601411</td>\n",
              "      <td>6.768835</td>\n",
              "      <td>63678.183505</td>\n",
              "    </tr>\n",
              "    <tr>\n",
              "      <th>std</th>\n",
              "      <td>91980.092832</td>\n",
              "      <td>NaN</td>\n",
              "      <td>NaN</td>\n",
              "      <td>0.112193</td>\n",
              "      <td>0.091854</td>\n",
              "      <td>1.192295e+12</td>\n",
              "      <td>NaN</td>\n",
              "      <td>50.561532</td>\n",
              "      <td>34.392438</td>\n",
              "      <td>229.575629</td>\n",
              "      <td>...</td>\n",
              "      <td>1.271434</td>\n",
              "      <td>NaN</td>\n",
              "      <td>1.311563</td>\n",
              "      <td>1.901186</td>\n",
              "      <td>2.238170e+04</td>\n",
              "      <td>0.493853</td>\n",
              "      <td>0.478085</td>\n",
              "      <td>0.489609</td>\n",
              "      <td>2.811960</td>\n",
              "      <td>22298.489601</td>\n",
              "    </tr>\n",
              "    <tr>\n",
              "      <th>min</th>\n",
              "      <td>0.000000</td>\n",
              "      <td>NaN</td>\n",
              "      <td>NaN</td>\n",
              "      <td>116.072514</td>\n",
              "      <td>39.627030</td>\n",
              "      <td>1.111027e+12</td>\n",
              "      <td>NaN</td>\n",
              "      <td>1.000000</td>\n",
              "      <td>0.000000</td>\n",
              "      <td>0.100000</td>\n",
              "      <td>...</td>\n",
              "      <td>0.048000</td>\n",
              "      <td>NaN</td>\n",
              "      <td>0.000000</td>\n",
              "      <td>0.000000</td>\n",
              "      <td>0.000000e+00</td>\n",
              "      <td>0.000000</td>\n",
              "      <td>0.000000</td>\n",
              "      <td>0.000000</td>\n",
              "      <td>1.000000</td>\n",
              "      <td>10847.000000</td>\n",
              "    </tr>\n",
              "    <tr>\n",
              "      <th>25%</th>\n",
              "      <td>79810.750000</td>\n",
              "      <td>NaN</td>\n",
              "      <td>NaN</td>\n",
              "      <td>116.345084</td>\n",
              "      <td>39.893471</td>\n",
              "      <td>1.111027e+12</td>\n",
              "      <td>NaN</td>\n",
              "      <td>1.000000</td>\n",
              "      <td>0.000000</td>\n",
              "      <td>205.000000</td>\n",
              "      <td>...</td>\n",
              "      <td>1.000000</td>\n",
              "      <td>NaN</td>\n",
              "      <td>1.000000</td>\n",
              "      <td>2.000000</td>\n",
              "      <td>2.500000e-01</td>\n",
              "      <td>0.000000</td>\n",
              "      <td>0.000000</td>\n",
              "      <td>0.000000</td>\n",
              "      <td>6.000000</td>\n",
              "      <td>46339.000000</td>\n",
              "    </tr>\n",
              "    <tr>\n",
              "      <th>50%</th>\n",
              "      <td>159374.500000</td>\n",
              "      <td>NaN</td>\n",
              "      <td>NaN</td>\n",
              "      <td>116.416780</td>\n",
              "      <td>39.934530</td>\n",
              "      <td>1.111027e+12</td>\n",
              "      <td>NaN</td>\n",
              "      <td>6.000000</td>\n",
              "      <td>5.000000</td>\n",
              "      <td>293.600000</td>\n",
              "      <td>...</td>\n",
              "      <td>4.000000</td>\n",
              "      <td>NaN</td>\n",
              "      <td>3.000000</td>\n",
              "      <td>6.000000</td>\n",
              "      <td>3.330000e-01</td>\n",
              "      <td>1.000000</td>\n",
              "      <td>1.000000</td>\n",
              "      <td>1.000000</td>\n",
              "      <td>7.000000</td>\n",
              "      <td>59021.000000</td>\n",
              "    </tr>\n",
              "    <tr>\n",
              "      <th>75%</th>\n",
              "      <td>239184.250000</td>\n",
              "      <td>NaN</td>\n",
              "      <td>NaN</td>\n",
              "      <td>116.477730</td>\n",
              "      <td>40.003018</td>\n",
              "      <td>1.111027e+12</td>\n",
              "      <td>NaN</td>\n",
              "      <td>37.000000</td>\n",
              "      <td>18.000000</td>\n",
              "      <td>426.000000</td>\n",
              "      <td>...</td>\n",
              "      <td>4.000000</td>\n",
              "      <td>NaN</td>\n",
              "      <td>4.000000</td>\n",
              "      <td>6.000000</td>\n",
              "      <td>5.000000e-01</td>\n",
              "      <td>1.000000</td>\n",
              "      <td>1.000000</td>\n",
              "      <td>1.000000</td>\n",
              "      <td>8.000000</td>\n",
              "      <td>75993.000000</td>\n",
              "    </tr>\n",
              "    <tr>\n",
              "      <th>max</th>\n",
              "      <td>318849.000000</td>\n",
              "      <td>NaN</td>\n",
              "      <td>NaN</td>\n",
              "      <td>116.732378</td>\n",
              "      <td>40.252758</td>\n",
              "      <td>1.184867e+14</td>\n",
              "      <td>NaN</td>\n",
              "      <td>1464.000000</td>\n",
              "      <td>1143.000000</td>\n",
              "      <td>11600.000000</td>\n",
              "      <td>...</td>\n",
              "      <td>4.000000</td>\n",
              "      <td>NaN</td>\n",
              "      <td>4.000000</td>\n",
              "      <td>6.000000</td>\n",
              "      <td>1.000940e+07</td>\n",
              "      <td>1.000000</td>\n",
              "      <td>1.000000</td>\n",
              "      <td>1.000000</td>\n",
              "      <td>13.000000</td>\n",
              "      <td>183109.000000</td>\n",
              "    </tr>\n",
              "  </tbody>\n",
              "</table>\n",
              "<p>11 rows × 27 columns</p>\n",
              "</div>\n",
              "      <button class=\"colab-df-convert\" onclick=\"convertToInteractive('df-b0daf2a8-6942-4ed5-9fb2-72392a51b78b')\"\n",
              "              title=\"Convert this dataframe to an interactive table.\"\n",
              "              style=\"display:none;\">\n",
              "        \n",
              "  <svg xmlns=\"http://www.w3.org/2000/svg\" height=\"24px\"viewBox=\"0 0 24 24\"\n",
              "       width=\"24px\">\n",
              "    <path d=\"M0 0h24v24H0V0z\" fill=\"none\"/>\n",
              "    <path d=\"M18.56 5.44l.94 2.06.94-2.06 2.06-.94-2.06-.94-.94-2.06-.94 2.06-2.06.94zm-11 1L8.5 8.5l.94-2.06 2.06-.94-2.06-.94L8.5 2.5l-.94 2.06-2.06.94zm10 10l.94 2.06.94-2.06 2.06-.94-2.06-.94-.94-2.06-.94 2.06-2.06.94z\"/><path d=\"M17.41 7.96l-1.37-1.37c-.4-.4-.92-.59-1.43-.59-.52 0-1.04.2-1.43.59L10.3 9.45l-7.72 7.72c-.78.78-.78 2.05 0 2.83L4 21.41c.39.39.9.59 1.41.59.51 0 1.02-.2 1.41-.59l7.78-7.78 2.81-2.81c.8-.78.8-2.07 0-2.86zM5.41 20L4 18.59l7.72-7.72 1.47 1.35L5.41 20z\"/>\n",
              "  </svg>\n",
              "      </button>\n",
              "      \n",
              "  <style>\n",
              "    .colab-df-container {\n",
              "      display:flex;\n",
              "      flex-wrap:wrap;\n",
              "      gap: 12px;\n",
              "    }\n",
              "\n",
              "    .colab-df-convert {\n",
              "      background-color: #E8F0FE;\n",
              "      border: none;\n",
              "      border-radius: 50%;\n",
              "      cursor: pointer;\n",
              "      display: none;\n",
              "      fill: #1967D2;\n",
              "      height: 32px;\n",
              "      padding: 0 0 0 0;\n",
              "      width: 32px;\n",
              "    }\n",
              "\n",
              "    .colab-df-convert:hover {\n",
              "      background-color: #E2EBFA;\n",
              "      box-shadow: 0px 1px 2px rgba(60, 64, 67, 0.3), 0px 1px 3px 1px rgba(60, 64, 67, 0.15);\n",
              "      fill: #174EA6;\n",
              "    }\n",
              "\n",
              "    [theme=dark] .colab-df-convert {\n",
              "      background-color: #3B4455;\n",
              "      fill: #D2E3FC;\n",
              "    }\n",
              "\n",
              "    [theme=dark] .colab-df-convert:hover {\n",
              "      background-color: #434B5C;\n",
              "      box-shadow: 0px 1px 3px 1px rgba(0, 0, 0, 0.15);\n",
              "      filter: drop-shadow(0px 1px 2px rgba(0, 0, 0, 0.3));\n",
              "      fill: #FFFFFF;\n",
              "    }\n",
              "  </style>\n",
              "\n",
              "      <script>\n",
              "        const buttonEl =\n",
              "          document.querySelector('#df-b0daf2a8-6942-4ed5-9fb2-72392a51b78b button.colab-df-convert');\n",
              "        buttonEl.style.display =\n",
              "          google.colab.kernel.accessAllowed ? 'block' : 'none';\n",
              "\n",
              "        async function convertToInteractive(key) {\n",
              "          const element = document.querySelector('#df-b0daf2a8-6942-4ed5-9fb2-72392a51b78b');\n",
              "          const dataTable =\n",
              "            await google.colab.kernel.invokeFunction('convertToInteractive',\n",
              "                                                     [key], {});\n",
              "          if (!dataTable) return;\n",
              "\n",
              "          const docLinkHtml = 'Like what you see? Visit the ' +\n",
              "            '<a target=\"_blank\" href=https://colab.research.google.com/notebooks/data_table.ipynb>data table notebook</a>'\n",
              "            + ' to learn more about interactive tables.';\n",
              "          element.innerHTML = '';\n",
              "          dataTable['output_type'] = 'display_data';\n",
              "          await google.colab.output.renderOutput(dataTable, element);\n",
              "          const docLink = document.createElement('div');\n",
              "          docLink.innerHTML = docLinkHtml;\n",
              "          element.appendChild(docLink);\n",
              "        }\n",
              "      </script>\n",
              "    </div>\n",
              "  </div>\n",
              "  "
            ]
          },
          "metadata": {}
        }
      ]
    },
    {
      "cell_type": "code",
      "source": [
        "#remove duplicates\n",
        "df.duplicated().sum()"
      ],
      "metadata": {
        "colab": {
          "base_uri": "https://localhost:8080/"
        },
        "id": "TvV76CJHroxC",
        "outputId": "a0e68007-ddeb-41f8-cf8b-8229b25919cc"
      },
      "execution_count": null,
      "outputs": [
        {
          "output_type": "execute_result",
          "data": {
            "text/plain": [
              "0"
            ]
          },
          "metadata": {},
          "execution_count": 48
        }
      ]
    },
    {
      "cell_type": "code",
      "source": [
        "df = df.drop_duplicates()\n",
        "df.duplicated().sum()"
      ],
      "metadata": {
        "colab": {
          "base_uri": "https://localhost:8080/"
        },
        "id": "YpccnG02rwzc",
        "outputId": "01f8783c-d4e7-47fe-bab2-1b9bfd1239cc"
      },
      "execution_count": null,
      "outputs": [
        {
          "output_type": "execute_result",
          "data": {
            "text/plain": [
              "0"
            ]
          },
          "metadata": {},
          "execution_count": 49
        }
      ]
    },
    {
      "cell_type": "code",
      "source": [
        "#remove unncessary columns\n",
        "df = df.drop(columns=['unnamed: 0','url','id','totalprice','constructiontime',\n",
        "             'dom','followers','livingroom','drawingroom','kitchen','bathroom',\n",
        "             'floor','ladderratio','elevator','fiveyearsproperty','subway','tradetime'])"
      ],
      "metadata": {
        "id": "0FaBbBxxfkdM"
      },
      "execution_count": null,
      "outputs": []
    },
    {
      "cell_type": "code",
      "source": [
        "#examine unique values\n",
        "df.nunique()\n",
        "#this looks likeprice will be a great target to predict"
      ],
      "metadata": {
        "id": "Jl_h7Og_mq_9",
        "colab": {
          "base_uri": "https://localhost:8080/"
        },
        "outputId": "bbf346d5-fd61-40f4-c69d-2778e4a105ad"
      },
      "execution_count": null,
      "outputs": [
        {
          "output_type": "execute_result",
          "data": {
            "text/plain": [
              "lng                     3868\n",
              "lat                     3870\n",
              "cid                     3907\n",
              "price                  69301\n",
              "square                 16781\n",
              "buildingtype               9\n",
              "renovationcondition        5\n",
              "buildingstructure          7\n",
              "district                  13\n",
              "communityaverage        3959\n",
              "dtype: int64"
            ]
          },
          "metadata": {},
          "execution_count": 51
        }
      ]
    },
    {
      "cell_type": "code",
      "source": [
        "# Check columns, rows, data types, and missing values\n",
        "df.info()"
      ],
      "metadata": {
        "id": "rE7HuTxiwZ-d",
        "colab": {
          "base_uri": "https://localhost:8080/"
        },
        "outputId": "dd03d830-e166-49d7-c06a-4b98ff7c6a1c"
      },
      "execution_count": null,
      "outputs": [
        {
          "output_type": "stream",
          "name": "stdout",
          "text": [
            "<class 'pandas.core.frame.DataFrame'>\n",
            "Int64Index: 200000 entries, 0 to 199999\n",
            "Data columns (total 10 columns):\n",
            " #   Column               Non-Null Count   Dtype  \n",
            "---  ------               --------------   -----  \n",
            " 0   lng                  200000 non-null  float64\n",
            " 1   lat                  200000 non-null  float64\n",
            " 2   cid                  200000 non-null  float64\n",
            " 3   price                200000 non-null  int64  \n",
            " 4   square               200000 non-null  float64\n",
            " 5   buildingtype         198723 non-null  float64\n",
            " 6   renovationcondition  200000 non-null  int64  \n",
            " 7   buildingstructure    200000 non-null  int64  \n",
            " 8   district             200000 non-null  int64  \n",
            " 9   communityaverage     199722 non-null  float64\n",
            "dtypes: float64(6), int64(4)\n",
            "memory usage: 16.8 MB\n"
          ]
        }
      ]
    },
    {
      "cell_type": "markdown",
      "source": [
        "- Checking the value count of my columns"
      ],
      "metadata": {
        "id": "rjPB1aQ77sZQ"
      }
    },
    {
      "cell_type": "code",
      "source": [
        "df['communityaverage'].value_counts()"
      ],
      "metadata": {
        "id": "sTa1r4tBwzAe"
      },
      "execution_count": null,
      "outputs": []
    },
    {
      "cell_type": "code",
      "source": [
        "df['district'].value_counts()"
      ],
      "metadata": {
        "id": "6tIaj1K_47do"
      },
      "execution_count": null,
      "outputs": []
    },
    {
      "cell_type": "code",
      "source": [
        "df['buildingstructure'].value_counts()"
      ],
      "metadata": {
        "id": "4cOXmFSx5DeZ"
      },
      "execution_count": null,
      "outputs": []
    },
    {
      "cell_type": "code",
      "source": [
        "df['renovationcondition'].value_counts()"
      ],
      "metadata": {
        "id": "A40N_alr5OoJ"
      },
      "execution_count": null,
      "outputs": []
    },
    {
      "cell_type": "code",
      "source": [
        "df['buildingtype'].value_counts()"
      ],
      "metadata": {
        "id": "j2Q4t7WK5Yv0"
      },
      "execution_count": null,
      "outputs": []
    },
    {
      "cell_type": "code",
      "source": [
        "df['square'].value_counts()"
      ],
      "metadata": {
        "id": "oikkcQ7y5gct",
        "colab": {
          "base_uri": "https://localhost:8080/"
        },
        "outputId": "89b36ebd-e6b8-47bf-87ff-ce5c86fbf9e8"
      },
      "execution_count": 69,
      "outputs": [
        {
          "output_type": "execute_result",
          "data": {
            "text/plain": [
              "89.00     345\n",
              "58.00     330\n",
              "60.00     275\n",
              "57.00     252\n",
              "61.00     237\n",
              "         ... \n",
              "137.19      1\n",
              "291.96      1\n",
              "34.62       1\n",
              "185.06      1\n",
              "212.73      1\n",
              "Name: square, Length: 16781, dtype: int64"
            ]
          },
          "metadata": {},
          "execution_count": 69
        }
      ]
    },
    {
      "cell_type": "code",
      "source": [
        "#this 3 value looks to me like it should have been 30000\n",
        "df['price'].value_counts()"
      ],
      "metadata": {
        "colab": {
          "base_uri": "https://localhost:8080/"
        },
        "id": "4C4MyLpu5mt0",
        "outputId": "74084b1b-f166-4b18-a406-04567aceb59c"
      },
      "execution_count": null,
      "outputs": [
        {
          "output_type": "execute_result",
          "data": {
            "text/plain": [
              "50000     126\n",
              "40000      71\n",
              "3          62\n",
              "60000      58\n",
              "100000     49\n",
              "         ... \n",
              "75067       1\n",
              "96147       1\n",
              "79929       1\n",
              "62106       1\n",
              "87651       1\n",
              "Name: price, Length: 69301, dtype: int64"
            ]
          },
          "metadata": {},
          "execution_count": 60
        }
      ]
    },
    {
      "cell_type": "code",
      "source": [
        "df['price'] = df['price'].replace('3', '30000')"
      ],
      "metadata": {
        "id": "G5Jzue_Q6l1f"
      },
      "execution_count": 63,
      "outputs": []
    },
    {
      "cell_type": "code",
      "source": [
        "df['cid'].value_counts()"
      ],
      "metadata": {
        "id": "CSaioIrk5qCu"
      },
      "execution_count": null,
      "outputs": []
    },
    {
      "cell_type": "code",
      "source": [
        "df['lat'].value_counts()"
      ],
      "metadata": {
        "id": "93lrCm377AGK"
      },
      "execution_count": null,
      "outputs": []
    },
    {
      "cell_type": "code",
      "source": [
        "df['lng'].value_counts()"
      ],
      "metadata": {
        "id": "zt9p-WPQ7F-M"
      },
      "execution_count": null,
      "outputs": []
    },
    {
      "cell_type": "code",
      "source": [
        "#not too many missing, will most likely impute in my preprocessor pipeline\n",
        "df.isna().sum()"
      ],
      "metadata": {
        "colab": {
          "base_uri": "https://localhost:8080/"
        },
        "id": "yimuBnbh8oBs",
        "outputId": "40684092-4aca-4802-bb18-30c2946975c1"
      },
      "execution_count": 67,
      "outputs": [
        {
          "output_type": "execute_result",
          "data": {
            "text/plain": [
              "lng                       0\n",
              "lat                       0\n",
              "cid                       0\n",
              "price                     0\n",
              "square                    0\n",
              "buildingtype           1277\n",
              "renovationcondition       0\n",
              "buildingstructure         0\n",
              "district                  0\n",
              "communityaverage        278\n",
              "dtype: int64"
            ]
          },
          "metadata": {},
          "execution_count": 67
        }
      ]
    },
    {
      "cell_type": "code",
      "source": [
        "#no outliers to mention\n",
        "df.describe(include='all')"
      ],
      "metadata": {
        "colab": {
          "base_uri": "https://localhost:8080/",
          "height": 364
        },
        "id": "XOZRVBn68n97",
        "outputId": "7a90e8ad-7d58-430e-c9ab-a9a140ca50d8"
      },
      "execution_count": 70,
      "outputs": [
        {
          "output_type": "execute_result",
          "data": {
            "text/plain": [
              "                 lng            lat           cid         price  \\\n",
              "count  200000.000000  200000.000000  2.000000e+05  200000.00000   \n",
              "mean      116.418741      39.949671  1.123246e+12   43535.37467   \n",
              "std         0.112193       0.091854  1.192295e+12   21728.39398   \n",
              "min       116.072514      39.627030  1.111027e+12       1.00000   \n",
              "25%       116.345084      39.893471  1.111027e+12   28046.00000   \n",
              "50%       116.416780      39.934530  1.111027e+12   38728.50000   \n",
              "75%       116.477730      40.003018  1.111027e+12   53799.25000   \n",
              "max       116.732378      40.252758  1.184867e+14  156250.00000   \n",
              "\n",
              "              square   buildingtype  renovationcondition  buildingstructure  \\\n",
              "count  200000.000000  198723.000000        200000.000000      200000.000000   \n",
              "mean       83.331072       3.006926             2.607750           4.454635   \n",
              "std        37.115681       1.271434             1.311563           1.901186   \n",
              "min         6.900000       0.048000             0.000000           0.000000   \n",
              "25%        57.940000       1.000000             1.000000           2.000000   \n",
              "50%        74.300000       4.000000             3.000000           6.000000   \n",
              "75%        98.830000       4.000000             4.000000           6.000000   \n",
              "max       906.000000       4.000000             4.000000           6.000000   \n",
              "\n",
              "            district  communityaverage  \n",
              "count  200000.000000     199722.000000  \n",
              "mean        6.768835      63678.183505  \n",
              "std         2.811960      22298.489601  \n",
              "min         1.000000      10847.000000  \n",
              "25%         6.000000      46339.000000  \n",
              "50%         7.000000      59021.000000  \n",
              "75%         8.000000      75993.000000  \n",
              "max        13.000000     183109.000000  "
            ],
            "text/html": [
              "\n",
              "  <div id=\"df-2ebf6c09-210f-4fd0-a090-0ba69765c112\">\n",
              "    <div class=\"colab-df-container\">\n",
              "      <div>\n",
              "<style scoped>\n",
              "    .dataframe tbody tr th:only-of-type {\n",
              "        vertical-align: middle;\n",
              "    }\n",
              "\n",
              "    .dataframe tbody tr th {\n",
              "        vertical-align: top;\n",
              "    }\n",
              "\n",
              "    .dataframe thead th {\n",
              "        text-align: right;\n",
              "    }\n",
              "</style>\n",
              "<table border=\"1\" class=\"dataframe\">\n",
              "  <thead>\n",
              "    <tr style=\"text-align: right;\">\n",
              "      <th></th>\n",
              "      <th>lng</th>\n",
              "      <th>lat</th>\n",
              "      <th>cid</th>\n",
              "      <th>price</th>\n",
              "      <th>square</th>\n",
              "      <th>buildingtype</th>\n",
              "      <th>renovationcondition</th>\n",
              "      <th>buildingstructure</th>\n",
              "      <th>district</th>\n",
              "      <th>communityaverage</th>\n",
              "    </tr>\n",
              "  </thead>\n",
              "  <tbody>\n",
              "    <tr>\n",
              "      <th>count</th>\n",
              "      <td>200000.000000</td>\n",
              "      <td>200000.000000</td>\n",
              "      <td>2.000000e+05</td>\n",
              "      <td>200000.00000</td>\n",
              "      <td>200000.000000</td>\n",
              "      <td>198723.000000</td>\n",
              "      <td>200000.000000</td>\n",
              "      <td>200000.000000</td>\n",
              "      <td>200000.000000</td>\n",
              "      <td>199722.000000</td>\n",
              "    </tr>\n",
              "    <tr>\n",
              "      <th>mean</th>\n",
              "      <td>116.418741</td>\n",
              "      <td>39.949671</td>\n",
              "      <td>1.123246e+12</td>\n",
              "      <td>43535.37467</td>\n",
              "      <td>83.331072</td>\n",
              "      <td>3.006926</td>\n",
              "      <td>2.607750</td>\n",
              "      <td>4.454635</td>\n",
              "      <td>6.768835</td>\n",
              "      <td>63678.183505</td>\n",
              "    </tr>\n",
              "    <tr>\n",
              "      <th>std</th>\n",
              "      <td>0.112193</td>\n",
              "      <td>0.091854</td>\n",
              "      <td>1.192295e+12</td>\n",
              "      <td>21728.39398</td>\n",
              "      <td>37.115681</td>\n",
              "      <td>1.271434</td>\n",
              "      <td>1.311563</td>\n",
              "      <td>1.901186</td>\n",
              "      <td>2.811960</td>\n",
              "      <td>22298.489601</td>\n",
              "    </tr>\n",
              "    <tr>\n",
              "      <th>min</th>\n",
              "      <td>116.072514</td>\n",
              "      <td>39.627030</td>\n",
              "      <td>1.111027e+12</td>\n",
              "      <td>1.00000</td>\n",
              "      <td>6.900000</td>\n",
              "      <td>0.048000</td>\n",
              "      <td>0.000000</td>\n",
              "      <td>0.000000</td>\n",
              "      <td>1.000000</td>\n",
              "      <td>10847.000000</td>\n",
              "    </tr>\n",
              "    <tr>\n",
              "      <th>25%</th>\n",
              "      <td>116.345084</td>\n",
              "      <td>39.893471</td>\n",
              "      <td>1.111027e+12</td>\n",
              "      <td>28046.00000</td>\n",
              "      <td>57.940000</td>\n",
              "      <td>1.000000</td>\n",
              "      <td>1.000000</td>\n",
              "      <td>2.000000</td>\n",
              "      <td>6.000000</td>\n",
              "      <td>46339.000000</td>\n",
              "    </tr>\n",
              "    <tr>\n",
              "      <th>50%</th>\n",
              "      <td>116.416780</td>\n",
              "      <td>39.934530</td>\n",
              "      <td>1.111027e+12</td>\n",
              "      <td>38728.50000</td>\n",
              "      <td>74.300000</td>\n",
              "      <td>4.000000</td>\n",
              "      <td>3.000000</td>\n",
              "      <td>6.000000</td>\n",
              "      <td>7.000000</td>\n",
              "      <td>59021.000000</td>\n",
              "    </tr>\n",
              "    <tr>\n",
              "      <th>75%</th>\n",
              "      <td>116.477730</td>\n",
              "      <td>40.003018</td>\n",
              "      <td>1.111027e+12</td>\n",
              "      <td>53799.25000</td>\n",
              "      <td>98.830000</td>\n",
              "      <td>4.000000</td>\n",
              "      <td>4.000000</td>\n",
              "      <td>6.000000</td>\n",
              "      <td>8.000000</td>\n",
              "      <td>75993.000000</td>\n",
              "    </tr>\n",
              "    <tr>\n",
              "      <th>max</th>\n",
              "      <td>116.732378</td>\n",
              "      <td>40.252758</td>\n",
              "      <td>1.184867e+14</td>\n",
              "      <td>156250.00000</td>\n",
              "      <td>906.000000</td>\n",
              "      <td>4.000000</td>\n",
              "      <td>4.000000</td>\n",
              "      <td>6.000000</td>\n",
              "      <td>13.000000</td>\n",
              "      <td>183109.000000</td>\n",
              "    </tr>\n",
              "  </tbody>\n",
              "</table>\n",
              "</div>\n",
              "      <button class=\"colab-df-convert\" onclick=\"convertToInteractive('df-2ebf6c09-210f-4fd0-a090-0ba69765c112')\"\n",
              "              title=\"Convert this dataframe to an interactive table.\"\n",
              "              style=\"display:none;\">\n",
              "        \n",
              "  <svg xmlns=\"http://www.w3.org/2000/svg\" height=\"24px\"viewBox=\"0 0 24 24\"\n",
              "       width=\"24px\">\n",
              "    <path d=\"M0 0h24v24H0V0z\" fill=\"none\"/>\n",
              "    <path d=\"M18.56 5.44l.94 2.06.94-2.06 2.06-.94-2.06-.94-.94-2.06-.94 2.06-2.06.94zm-11 1L8.5 8.5l.94-2.06 2.06-.94-2.06-.94L8.5 2.5l-.94 2.06-2.06.94zm10 10l.94 2.06.94-2.06 2.06-.94-2.06-.94-.94-2.06-.94 2.06-2.06.94z\"/><path d=\"M17.41 7.96l-1.37-1.37c-.4-.4-.92-.59-1.43-.59-.52 0-1.04.2-1.43.59L10.3 9.45l-7.72 7.72c-.78.78-.78 2.05 0 2.83L4 21.41c.39.39.9.59 1.41.59.51 0 1.02-.2 1.41-.59l7.78-7.78 2.81-2.81c.8-.78.8-2.07 0-2.86zM5.41 20L4 18.59l7.72-7.72 1.47 1.35L5.41 20z\"/>\n",
              "  </svg>\n",
              "      </button>\n",
              "      \n",
              "  <style>\n",
              "    .colab-df-container {\n",
              "      display:flex;\n",
              "      flex-wrap:wrap;\n",
              "      gap: 12px;\n",
              "    }\n",
              "\n",
              "    .colab-df-convert {\n",
              "      background-color: #E8F0FE;\n",
              "      border: none;\n",
              "      border-radius: 50%;\n",
              "      cursor: pointer;\n",
              "      display: none;\n",
              "      fill: #1967D2;\n",
              "      height: 32px;\n",
              "      padding: 0 0 0 0;\n",
              "      width: 32px;\n",
              "    }\n",
              "\n",
              "    .colab-df-convert:hover {\n",
              "      background-color: #E2EBFA;\n",
              "      box-shadow: 0px 1px 2px rgba(60, 64, 67, 0.3), 0px 1px 3px 1px rgba(60, 64, 67, 0.15);\n",
              "      fill: #174EA6;\n",
              "    }\n",
              "\n",
              "    [theme=dark] .colab-df-convert {\n",
              "      background-color: #3B4455;\n",
              "      fill: #D2E3FC;\n",
              "    }\n",
              "\n",
              "    [theme=dark] .colab-df-convert:hover {\n",
              "      background-color: #434B5C;\n",
              "      box-shadow: 0px 1px 3px 1px rgba(0, 0, 0, 0.15);\n",
              "      filter: drop-shadow(0px 1px 2px rgba(0, 0, 0, 0.3));\n",
              "      fill: #FFFFFF;\n",
              "    }\n",
              "  </style>\n",
              "\n",
              "      <script>\n",
              "        const buttonEl =\n",
              "          document.querySelector('#df-2ebf6c09-210f-4fd0-a090-0ba69765c112 button.colab-df-convert');\n",
              "        buttonEl.style.display =\n",
              "          google.colab.kernel.accessAllowed ? 'block' : 'none';\n",
              "\n",
              "        async function convertToInteractive(key) {\n",
              "          const element = document.querySelector('#df-2ebf6c09-210f-4fd0-a090-0ba69765c112');\n",
              "          const dataTable =\n",
              "            await google.colab.kernel.invokeFunction('convertToInteractive',\n",
              "                                                     [key], {});\n",
              "          if (!dataTable) return;\n",
              "\n",
              "          const docLinkHtml = 'Like what you see? Visit the ' +\n",
              "            '<a target=\"_blank\" href=https://colab.research.google.com/notebooks/data_table.ipynb>data table notebook</a>'\n",
              "            + ' to learn more about interactive tables.';\n",
              "          element.innerHTML = '';\n",
              "          dataTable['output_type'] = 'display_data';\n",
              "          await google.colab.output.renderOutput(dataTable, element);\n",
              "          const docLink = document.createElement('div');\n",
              "          docLink.innerHTML = docLinkHtml;\n",
              "          element.appendChild(docLink);\n",
              "        }\n",
              "      </script>\n",
              "    </div>\n",
              "  </div>\n",
              "  "
            ]
          },
          "metadata": {},
          "execution_count": 70
        }
      ]
    },
    {
      "cell_type": "markdown",
      "source": [
        "# Exploratory visualizations and Analysis"
      ],
      "metadata": {
        "id": "pfveBMtEEJe7"
      }
    },
    {
      "cell_type": "code",
      "source": [
        "#On first glance price and community average share a strong correlation and that may be something to explore\n",
        "#Theres is also a strong negative correlation betwween the building structure and the building type\n",
        "corr = df.corr()\n",
        "plt.style.use('ggplot')\n",
        "fig, ax = plt.subplots(figsize=(10,10))\n",
        "sns.heatmap(corr,cmap= 'magma', annot = True,);\n",
        "plt.title('Column Correlation');"
      ],
      "metadata": {
        "colab": {
          "base_uri": "https://localhost:8080/",
          "height": 698
        },
        "id": "QF1xZkcU9Zu9",
        "outputId": "6abca86d-bf62-45c6-b3d0-09085edf4585"
      },
      "execution_count": 71,
      "outputs": [
        {
          "output_type": "display_data",
          "data": {
            "text/plain": [
              "<Figure size 720x720 with 2 Axes>"
            ],
            "image/png": "[encoded data removed]"
          },
          "metadata": {}
        }
      ]
    },
    {
      "cell_type": "code",
      "source": [
        "#As the the community average income increases we can see the property prices increase\n",
        "#I think this scatter could be a nice visual for an employer I just need help increasing the numbers on the x and y axis\n",
        "#as to scale it back so it doesn't look so cluttered\n",
        "plt.style.use('ggplot')\n",
        "plt.scatter(df['price'], df['communityaverage'], c=df['communityaverage'], cmap='magma');\n",
        "plt.colorbar(label='communityaverage')\n",
        "plt.title('Beijing Real Estate Correlation')\n",
        "plt.ylabel('Community Average Inc')\n",
        "plt.xlabel('Home Price');"
      ],
      "metadata": {
        "colab": {
          "base_uri": "https://localhost:8080/",
          "height": 299
        },
        "id": "k6iVIbtY_947",
        "outputId": "1c652ef1-ad2e-4165-ba8b-86a05030fc0c"
      },
      "execution_count": 77,
      "outputs": [
        {
          "output_type": "display_data",
          "data": {
            "text/plain": [
              "<Figure size 432x288 with 2 Axes>"
            ],
            "image/png": "[encoded data removed]"
          },
          "metadata": {}
        }
      ]
    }
  ]
}