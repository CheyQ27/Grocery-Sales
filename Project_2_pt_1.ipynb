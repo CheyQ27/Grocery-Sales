{
  "nbformat": 4,
  "nbformat_minor": 0,
  "metadata": {
    "colab": {
      "name": "Project 2 pt 1",
      "provenance": [],
      "authorship_tag": "ABX9TyPolv2ljTWs3VABEU0HHjV+",
      "include_colab_link": true
    },
    "kernelspec": {
      "name": "python3",
      "display_name": "Python 3"
    },
    "language_info": {
      "name": "python"
    }
  },
  "cells": [
    {
      "cell_type": "markdown",
      "metadata": {
        "id": "view-in-github",
        "colab_type": "text"
      },
      "source": [
        "<a href=\"https://colab.research.google.com/github/CheyQ27/Main-Projects/blob/main/Project_2_pt_1.ipynb\" target=\"_parent\"><img src=\"https://colab.research.google.com/assets/colab-badge.svg\" alt=\"Open In Colab\"/></a>"
      ]
    },
    {
      "cell_type": "markdown",
      "source": [
        "# Housing Price in Beijing\n",
        "- Cheyenne Quann\n",
        "- 06/15/2022"
      ],
      "metadata": {
        "id": "3FnjUxpeis6g"
      }
    },
    {
      "cell_type": "markdown",
      "source": [
        "1) My source of data is https://www.kaggle.com/datasets/ruiqurm/lianjia and all data was fetched from https://bj.lianjia.com/chengjiao\n",
        "\n",
        "2) This set contains extensive and pertinent information on the housing market in Beijing, China. This set is geared toward educating potential home buyers, containing information on price, home size, condition, community information and how long properties have been on the market.\n",
        "\n",
        "3) My target will be the price of a home or the total price\n",
        "\n",
        "4) This is a regression problem\n",
        "\n",
        "5) There will be between 22 and 23 features\n",
        "\n",
        "6) There are 200,000 rows in my dataset\n",
        "\n",
        "7) The biggest challenge that I foresee is how I will split my data. I want to predict future housing prices so I need to figure out how to make my training set houses before a certain date and my testing set houses after that date"
      ],
      "metadata": {
        "id": "u3N7ALgrjHAG"
      }
    },
    {
      "cell_type": "code",
      "source": [
        "from google.colab import drive \n",
        "drive.mount('/content/drive')"
      ],
      "metadata": {
        "colab": {
          "base_uri": "https://localhost:8080/"
        },
        "id": "lFf5jWhQisZl",
        "outputId": "2db1d48a-6dd2-4a59-cd00-c9fc39b1f7fb"
      },
      "execution_count": 2,
      "outputs": [
        {
          "output_type": "stream",
          "name": "stdout",
          "text": [
            "Mounted at /content/drive\n"
          ]
        }
      ]
    },
    {
      "cell_type": "code",
      "execution_count": 3,
      "metadata": {
        "id": "5DRrNULAiYwo"
      },
      "outputs": [],
      "source": [
        "import pandas as pd"
      ]
    },
    {
      "cell_type": "code",
      "source": [
        "df = pd.read_csv('/content/drive/MyDrive/Coding Dojo/DataSets/new - new.csv')\n",
        "df=df.sample(200000)\n",
        "df.to_csv('/content/200khouses.csv')\n",
        "df = pd.read_csv('/content/200khouses.csv')\n",
        "df.head()"
      ],
      "metadata": {
        "colab": {
          "base_uri": "https://localhost:8080/",
          "height": 473
        },
        "id": "OnYCaSKPqbk7",
        "outputId": "ef6694f0-94d4-4781-8d14-fa719a7650f9"
      },
      "execution_count": 16,
      "outputs": [
        {
          "output_type": "stream",
          "name": "stderr",
          "text": [
            "/usr/local/lib/python3.7/dist-packages/IPython/core/interactiveshell.py:2882: DtypeWarning: Columns (1,11,12,14) have mixed types.Specify dtype option on import or set low_memory=False.\n",
            "  exec(code_obj, self.user_global_ns, self.user_ns)\n",
            "/usr/local/lib/python3.7/dist-packages/IPython/core/interactiveshell.py:2882: DtypeWarning: Columns (15) have mixed types.Specify dtype option on import or set low_memory=False.\n",
            "  exec(code_obj, self.user_global_ns, self.user_ns)\n"
          ]
        },
        {
          "output_type": "execute_result",
          "data": {
            "text/plain": [
              "   Unnamed: 0                                                url  \\\n",
              "0      272244  https://bj.lianjia.com/chengjiao/BJSJ86937015....   \n",
              "1      183723  https://bj.lianjia.com/chengjiao/BJCY91181857....   \n",
              "2       99668  https://bj.lianjia.com/chengjiao/BJCP85595070....   \n",
              "3      181505  https://bj.lianjia.com/chengjiao/BJCY90950230....   \n",
              "4      254148  https://bj.lianjia.com/chengjiao/BJHD88117786....   \n",
              "\n",
              "             id         Lng        Lat           Cid   tradeTime  DOM  \\\n",
              "0  BJSJ86937015  116.212671  39.900574  1.111027e+12  2014-01-01  NaN   \n",
              "1  BJCY91181857  116.445582  39.974979  1.111027e+12  2015-12-31  1.0   \n",
              "2  BJCP85595070  116.439420  40.072066  1.111027e+12  2015-03-24  1.0   \n",
              "3  BJCY90950230  116.481632  39.927935  1.111027e+12  2016-01-10  1.0   \n",
              "4  BJHD88117786  116.338384  39.934691  1.111027e+12  2014-11-24  1.0   \n",
              "\n",
              "   followers  totalPrice  ...  buildingType  constructionTime  \\\n",
              "0          5       450.0  ...           3.0                未知   \n",
              "1         16       260.0  ...           4.0              1998   \n",
              "2         13       237.0  ...           4.0              2001   \n",
              "3         17       174.0  ...           4.0              1987   \n",
              "4          3       280.0  ...           4.0              1990   \n",
              "\n",
              "  renovationCondition buildingStructure  ladderRatio elevator  \\\n",
              "0                   1                 6        0.667      1.0   \n",
              "1                   3                 6        0.333      0.0   \n",
              "2                   4                 2        0.500      0.0   \n",
              "3                   3                 6        0.167      1.0   \n",
              "4                   4                 2        0.125      0.0   \n",
              "\n",
              "  fiveYearsProperty  subway district  communityAverage  \n",
              "0               0.0     0.0        9           57942.0  \n",
              "1               1.0     1.0        7           66102.0  \n",
              "2               1.0     0.0        6           40934.0  \n",
              "3               1.0     1.0        7           67899.0  \n",
              "4               1.0     1.0        8           96480.0  \n",
              "\n",
              "[5 rows x 27 columns]"
            ],
            "text/html": [
              "\n",
              "  <div id=\"df-c2e84899-4521-4dba-9573-8a7aa0a1a77b\">\n",
              "    <div class=\"colab-df-container\">\n",
              "      <div>\n",
              "<style scoped>\n",
              "    .dataframe tbody tr th:only-of-type {\n",
              "        vertical-align: middle;\n",
              "    }\n",
              "\n",
              "    .dataframe tbody tr th {\n",
              "        vertical-align: top;\n",
              "    }\n",
              "\n",
              "    .dataframe thead th {\n",
              "        text-align: right;\n",
              "    }\n",
              "</style>\n",
              "<table border=\"1\" class=\"dataframe\">\n",
              "  <thead>\n",
              "    <tr style=\"text-align: right;\">\n",
              "      <th></th>\n",
              "      <th>Unnamed: 0</th>\n",
              "      <th>url</th>\n",
              "      <th>id</th>\n",
              "      <th>Lng</th>\n",
              "      <th>Lat</th>\n",
              "      <th>Cid</th>\n",
              "      <th>tradeTime</th>\n",
              "      <th>DOM</th>\n",
              "      <th>followers</th>\n",
              "      <th>totalPrice</th>\n",
              "      <th>...</th>\n",
              "      <th>buildingType</th>\n",
              "      <th>constructionTime</th>\n",
              "      <th>renovationCondition</th>\n",
              "      <th>buildingStructure</th>\n",
              "      <th>ladderRatio</th>\n",
              "      <th>elevator</th>\n",
              "      <th>fiveYearsProperty</th>\n",
              "      <th>subway</th>\n",
              "      <th>district</th>\n",
              "      <th>communityAverage</th>\n",
              "    </tr>\n",
              "  </thead>\n",
              "  <tbody>\n",
              "    <tr>\n",
              "      <th>0</th>\n",
              "      <td>272244</td>\n",
              "      <td>https://bj.lianjia.com/chengjiao/BJSJ86937015....</td>\n",
              "      <td>BJSJ86937015</td>\n",
              "      <td>116.212671</td>\n",
              "      <td>39.900574</td>\n",
              "      <td>1.111027e+12</td>\n",
              "      <td>2014-01-01</td>\n",
              "      <td>NaN</td>\n",
              "      <td>5</td>\n",
              "      <td>450.0</td>\n",
              "      <td>...</td>\n",
              "      <td>3.0</td>\n",
              "      <td>未知</td>\n",
              "      <td>1</td>\n",
              "      <td>6</td>\n",
              "      <td>0.667</td>\n",
              "      <td>1.0</td>\n",
              "      <td>0.0</td>\n",
              "      <td>0.0</td>\n",
              "      <td>9</td>\n",
              "      <td>57942.0</td>\n",
              "    </tr>\n",
              "    <tr>\n",
              "      <th>1</th>\n",
              "      <td>183723</td>\n",
              "      <td>https://bj.lianjia.com/chengjiao/BJCY91181857....</td>\n",
              "      <td>BJCY91181857</td>\n",
              "      <td>116.445582</td>\n",
              "      <td>39.974979</td>\n",
              "      <td>1.111027e+12</td>\n",
              "      <td>2015-12-31</td>\n",
              "      <td>1.0</td>\n",
              "      <td>16</td>\n",
              "      <td>260.0</td>\n",
              "      <td>...</td>\n",
              "      <td>4.0</td>\n",
              "      <td>1998</td>\n",
              "      <td>3</td>\n",
              "      <td>6</td>\n",
              "      <td>0.333</td>\n",
              "      <td>0.0</td>\n",
              "      <td>1.0</td>\n",
              "      <td>1.0</td>\n",
              "      <td>7</td>\n",
              "      <td>66102.0</td>\n",
              "    </tr>\n",
              "    <tr>\n",
              "      <th>2</th>\n",
              "      <td>99668</td>\n",
              "      <td>https://bj.lianjia.com/chengjiao/BJCP85595070....</td>\n",
              "      <td>BJCP85595070</td>\n",
              "      <td>116.439420</td>\n",
              "      <td>40.072066</td>\n",
              "      <td>1.111027e+12</td>\n",
              "      <td>2015-03-24</td>\n",
              "      <td>1.0</td>\n",
              "      <td>13</td>\n",
              "      <td>237.0</td>\n",
              "      <td>...</td>\n",
              "      <td>4.0</td>\n",
              "      <td>2001</td>\n",
              "      <td>4</td>\n",
              "      <td>2</td>\n",
              "      <td>0.500</td>\n",
              "      <td>0.0</td>\n",
              "      <td>1.0</td>\n",
              "      <td>0.0</td>\n",
              "      <td>6</td>\n",
              "      <td>40934.0</td>\n",
              "    </tr>\n",
              "    <tr>\n",
              "      <th>3</th>\n",
              "      <td>181505</td>\n",
              "      <td>https://bj.lianjia.com/chengjiao/BJCY90950230....</td>\n",
              "      <td>BJCY90950230</td>\n",
              "      <td>116.481632</td>\n",
              "      <td>39.927935</td>\n",
              "      <td>1.111027e+12</td>\n",
              "      <td>2016-01-10</td>\n",
              "      <td>1.0</td>\n",
              "      <td>17</td>\n",
              "      <td>174.0</td>\n",
              "      <td>...</td>\n",
              "      <td>4.0</td>\n",
              "      <td>1987</td>\n",
              "      <td>3</td>\n",
              "      <td>6</td>\n",
              "      <td>0.167</td>\n",
              "      <td>1.0</td>\n",
              "      <td>1.0</td>\n",
              "      <td>1.0</td>\n",
              "      <td>7</td>\n",
              "      <td>67899.0</td>\n",
              "    </tr>\n",
              "    <tr>\n",
              "      <th>4</th>\n",
              "      <td>254148</td>\n",
              "      <td>https://bj.lianjia.com/chengjiao/BJHD88117786....</td>\n",
              "      <td>BJHD88117786</td>\n",
              "      <td>116.338384</td>\n",
              "      <td>39.934691</td>\n",
              "      <td>1.111027e+12</td>\n",
              "      <td>2014-11-24</td>\n",
              "      <td>1.0</td>\n",
              "      <td>3</td>\n",
              "      <td>280.0</td>\n",
              "      <td>...</td>\n",
              "      <td>4.0</td>\n",
              "      <td>1990</td>\n",
              "      <td>4</td>\n",
              "      <td>2</td>\n",
              "      <td>0.125</td>\n",
              "      <td>0.0</td>\n",
              "      <td>1.0</td>\n",
              "      <td>1.0</td>\n",
              "      <td>8</td>\n",
              "      <td>96480.0</td>\n",
              "    </tr>\n",
              "  </tbody>\n",
              "</table>\n",
              "<p>5 rows × 27 columns</p>\n",
              "</div>\n",
              "      <button class=\"colab-df-convert\" onclick=\"convertToInteractive('df-c2e84899-4521-4dba-9573-8a7aa0a1a77b')\"\n",
              "              title=\"Convert this dataframe to an interactive table.\"\n",
              "              style=\"display:none;\">\n",
              "        \n",
              "  <svg xmlns=\"http://www.w3.org/2000/svg\" height=\"24px\"viewBox=\"0 0 24 24\"\n",
              "       width=\"24px\">\n",
              "    <path d=\"M0 0h24v24H0V0z\" fill=\"none\"/>\n",
              "    <path d=\"M18.56 5.44l.94 2.06.94-2.06 2.06-.94-2.06-.94-.94-2.06-.94 2.06-2.06.94zm-11 1L8.5 8.5l.94-2.06 2.06-.94-2.06-.94L8.5 2.5l-.94 2.06-2.06.94zm10 10l.94 2.06.94-2.06 2.06-.94-2.06-.94-.94-2.06-.94 2.06-2.06.94z\"/><path d=\"M17.41 7.96l-1.37-1.37c-.4-.4-.92-.59-1.43-.59-.52 0-1.04.2-1.43.59L10.3 9.45l-7.72 7.72c-.78.78-.78 2.05 0 2.83L4 21.41c.39.39.9.59 1.41.59.51 0 1.02-.2 1.41-.59l7.78-7.78 2.81-2.81c.8-.78.8-2.07 0-2.86zM5.41 20L4 18.59l7.72-7.72 1.47 1.35L5.41 20z\"/>\n",
              "  </svg>\n",
              "      </button>\n",
              "      \n",
              "  <style>\n",
              "    .colab-df-container {\n",
              "      display:flex;\n",
              "      flex-wrap:wrap;\n",
              "      gap: 12px;\n",
              "    }\n",
              "\n",
              "    .colab-df-convert {\n",
              "      background-color: #E8F0FE;\n",
              "      border: none;\n",
              "      border-radius: 50%;\n",
              "      cursor: pointer;\n",
              "      display: none;\n",
              "      fill: #1967D2;\n",
              "      height: 32px;\n",
              "      padding: 0 0 0 0;\n",
              "      width: 32px;\n",
              "    }\n",
              "\n",
              "    .colab-df-convert:hover {\n",
              "      background-color: #E2EBFA;\n",
              "      box-shadow: 0px 1px 2px rgba(60, 64, 67, 0.3), 0px 1px 3px 1px rgba(60, 64, 67, 0.15);\n",
              "      fill: #174EA6;\n",
              "    }\n",
              "\n",
              "    [theme=dark] .colab-df-convert {\n",
              "      background-color: #3B4455;\n",
              "      fill: #D2E3FC;\n",
              "    }\n",
              "\n",
              "    [theme=dark] .colab-df-convert:hover {\n",
              "      background-color: #434B5C;\n",
              "      box-shadow: 0px 1px 3px 1px rgba(0, 0, 0, 0.15);\n",
              "      filter: drop-shadow(0px 1px 2px rgba(0, 0, 0, 0.3));\n",
              "      fill: #FFFFFF;\n",
              "    }\n",
              "  </style>\n",
              "\n",
              "      <script>\n",
              "        const buttonEl =\n",
              "          document.querySelector('#df-c2e84899-4521-4dba-9573-8a7aa0a1a77b button.colab-df-convert');\n",
              "        buttonEl.style.display =\n",
              "          google.colab.kernel.accessAllowed ? 'block' : 'none';\n",
              "\n",
              "        async function convertToInteractive(key) {\n",
              "          const element = document.querySelector('#df-c2e84899-4521-4dba-9573-8a7aa0a1a77b');\n",
              "          const dataTable =\n",
              "            await google.colab.kernel.invokeFunction('convertToInteractive',\n",
              "                                                     [key], {});\n",
              "          if (!dataTable) return;\n",
              "\n",
              "          const docLinkHtml = 'Like what you see? Visit the ' +\n",
              "            '<a target=\"_blank\" href=https://colab.research.google.com/notebooks/data_table.ipynb>data table notebook</a>'\n",
              "            + ' to learn more about interactive tables.';\n",
              "          element.innerHTML = '';\n",
              "          dataTable['output_type'] = 'display_data';\n",
              "          await google.colab.output.renderOutput(dataTable, element);\n",
              "          const docLink = document.createElement('div');\n",
              "          docLink.innerHTML = docLinkHtml;\n",
              "          element.appendChild(docLink);\n",
              "        }\n",
              "      </script>\n",
              "    </div>\n",
              "  </div>\n",
              "  "
            ]
          },
          "metadata": {},
          "execution_count": 16
        }
      ]
    },
    {
      "cell_type": "code",
      "source": [
        "df.shape"
      ],
      "metadata": {
        "colab": {
          "base_uri": "https://localhost:8080/"
        },
        "id": "AfdUWgM8rVuN",
        "outputId": "a10f5589-675c-4076-dcb4-5199735412d2"
      },
      "execution_count": 18,
      "outputs": [
        {
          "output_type": "execute_result",
          "data": {
            "text/plain": [
              "(200000, 27)"
            ]
          },
          "metadata": {},
          "execution_count": 18
        }
      ]
    },
    {
      "cell_type": "code",
      "source": [
        ""
      ],
      "metadata": {
        "id": "KJXxiTp1wBkD"
      },
      "execution_count": null,
      "outputs": []
    }
  ]
}